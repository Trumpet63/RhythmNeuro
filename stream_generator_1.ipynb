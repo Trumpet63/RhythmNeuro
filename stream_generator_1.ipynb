{
 "cells": [
  {
   "cell_type": "markdown",
   "metadata": {},
   "source": [
    "Problem Statement:\n",
    "Generate singles stream\n",
    "\n",
    "Definitions:\n",
    "Stream is a rhythm game pattern where no two consecutive chords contain the same tracks (aka lanes).\n",
    "Singles are chords that contain only one track."
   ]
  },
  {
   "cell_type": "code",
   "execution_count": 13,
   "metadata": {},
   "outputs": [],
   "source": [
    "import torch\n",
    "import torch.nn.functional as F\n",
    "import matplotlib.pyplot as plt"
   ]
  },
  {
   "cell_type": "markdown",
   "metadata": {},
   "source": [
    "Generate stream directly"
   ]
  },
  {
   "cell_type": "code",
   "execution_count": 10,
   "metadata": {},
   "outputs": [
    {
     "name": "stdout",
     "output_type": "stream",
     "text": [
      "100\n"
     ]
    }
   ],
   "source": [
    "g = torch.manual_seed(1337)\n",
    "chart = []\n",
    "prev_track = 0\n",
    "for _ in range(100):\n",
    "    while (track := torch.randint(1, 5, (1,), generator=g).item()) == prev_track: pass\n",
    "    chart.append(track)\n",
    "    prev_track = track\n",
    "print(len(chart))"
   ]
  },
  {
   "cell_type": "code",
   "execution_count": 16,
   "metadata": {},
   "outputs": [
    {
     "data": {
      "text/plain": [
       "<matplotlib.image.AxesImage at 0x24fa841d190>"
      ]
     },
     "execution_count": 16,
     "metadata": {},
     "output_type": "execute_result"
    },
    {
     "data": {
      "image/png": "[encoded data removed]",
      "text/plain": [
       "<Figure size 360x1296 with 1 Axes>"
      ]
     },
     "metadata": {
      "needs_background": "light"
     },
     "output_type": "display_data"
    }
   ],
   "source": [
    "fig, ax = plt.subplots(figsize=(5, 18))\n",
    "ax.imshow(F.one_hot(torch.tensor(chart), num_classes=5))"
   ]
  },
  {
   "cell_type": "markdown",
   "metadata": {},
   "source": [
    "Generate stream by sampling from a statistical bigram model"
   ]
  },
  {
   "cell_type": "code",
   "execution_count": 17,
   "metadata": {},
   "outputs": [],
   "source": [
    "tracks = [\".\", \"1\", \"2\", \"3\", \"4\"]\n",
    "itos = {i:s for i,s in enumerate(tracks)}\n",
    "stoi = {s:i for i,s in itos.items()}"
   ]
  },
  {
   "cell_type": "code",
   "execution_count": 21,
   "metadata": {},
   "outputs": [],
   "source": [
    "examples = []\n",
    "\n",
    "for t in tracks[1:]:\n",
    "    examples.append((\".\", t))\n",
    "\n",
    "for t1 in tracks[1:]:\n",
    "    for t2 in tracks[1:]:\n",
    "        if t1 == t2:\n",
    "            continue\n",
    "        examples.append((t1, t2))"
   ]
  },
  {
   "cell_type": "code",
   "execution_count": 28,
   "metadata": {},
   "outputs": [],
   "source": [
    "N = torch.zeros(5, 5).int().tolist()\n",
    "\n",
    "for t1, t2 in examples:\n",
    "    ix1 = stoi[t1]\n",
    "    ix2 = stoi[t2]\n",
    "    N[ix1][ix2] += 1\n",
    "\n",
    "N = torch.tensor(N)"
   ]
  },
  {
   "cell_type": "code",
   "execution_count": 30,
   "metadata": {},
   "outputs": [],
   "source": [
    "P = N.float()\n",
    "P /= P.sum(axis=1, keepdim=True)"
   ]
  },
  {
   "cell_type": "code",
   "execution_count": 37,
   "metadata": {},
   "outputs": [
    {
     "name": "stdout",
     "output_type": "stream",
     "text": [
      "100\n"
     ]
    }
   ],
   "source": [
    "g = torch.manual_seed(1337)\n",
    "\n",
    "track = 0\n",
    "chart = []\n",
    "for _ in range(100):\n",
    "    track = torch.multinomial(P[track], num_samples=1, replacement=True, generator=g).item()\n",
    "    chart.append(track)\n",
    "print(len(chart))"
   ]
  },
  {
   "cell_type": "code",
   "execution_count": 38,
   "metadata": {},
   "outputs": [
    {
     "data": {
      "text/plain": [
       "<matplotlib.image.AxesImage at 0x24fa8267490>"
      ]
     },
     "execution_count": 38,
     "metadata": {},
     "output_type": "execute_result"
    },
    {
     "data": {
      "image/png": "[encoded data removed]",
      "text/plain": [
       "<Figure size 360x1296 with 1 Axes>"
      ]
     },
     "metadata": {
      "needs_background": "light"
     },
     "output_type": "display_data"
    }
   ],
   "source": [
    "fig, ax = plt.subplots(figsize=(5, 18))\n",
    "ax.imshow(F.one_hot(torch.tensor(chart), num_classes=5))"
   ]
  },
  {
   "cell_type": "code",
   "execution_count": 47,
   "metadata": {},
   "outputs": [],
   "source": [
    "xs = F.one_hot(torch.tensor([stoi[t[0]] for t in examples]), num_classes=5).float()\n",
    "ys = torch.tensor([stoi[t[1]] for t in examples])"
   ]
  },
  {
   "cell_type": "code",
   "execution_count": 50,
   "metadata": {},
   "outputs": [
    {
     "data": {
      "text/plain": [
       "tensor(1.1705)"
      ]
     },
     "execution_count": 50,
     "metadata": {},
     "output_type": "execute_result"
    }
   ],
   "source": [
    "probs = xs @ P\n",
    "loss = -probs[torch.arange(len(xs)), ys].log().mean()\n",
    "loss"
   ]
  },
  {
   "cell_type": "markdown",
   "metadata": {},
   "source": [
    "Generate stream by sampling from a neural net bigram model"
   ]
  },
  {
   "cell_type": "code",
   "execution_count": 53,
   "metadata": {},
   "outputs": [],
   "source": [
    "torch.manual_seed(1337)\n",
    "W = torch.randn(5, 5)"
   ]
  },
  {
   "cell_type": "code",
   "execution_count": 55,
   "metadata": {},
   "outputs": [
    {
     "name": "stdout",
     "output_type": "stream",
     "text": [
      "100\n"
     ]
    }
   ],
   "source": [
    "N = W.exp()\n",
    "P = N / N.sum(axis=1, keepdim=True)\n",
    "\n",
    "g = torch.manual_seed(1337)\n",
    "\n",
    "track = 0\n",
    "chart = []\n",
    "for _ in range(100):\n",
    "    track = torch.multinomial(P[track], num_samples=1, replacement=True, generator=g).item()\n",
    "    chart.append(track)\n",
    "print(len(chart))"
   ]
  },
  {
   "cell_type": "code",
   "execution_count": 56,
   "metadata": {},
   "outputs": [
    {
     "data": {
      "text/plain": [
       "<matplotlib.image.AxesImage at 0x24fa84d8550>"
      ]
     },
     "execution_count": 56,
     "metadata": {},
     "output_type": "execute_result"
    },
    {
     "data": {
      "image/png": "[encoded data removed]",
      "text/plain": [
       "<Figure size 360x1296 with 1 Axes>"
      ]
     },
     "metadata": {
      "needs_background": "light"
     },
     "output_type": "display_data"
    }
   ],
   "source": [
    "fig, ax = plt.subplots(figsize=(5, 18))\n",
    "ax.imshow(F.one_hot(torch.tensor(chart), num_classes=5))"
   ]
  },
  {
   "cell_type": "code",
   "execution_count": 63,
   "metadata": {},
   "outputs": [
    {
     "name": "stdout",
     "output_type": "stream",
     "text": [
      "1.1706448793411255\n"
     ]
    }
   ],
   "source": [
    "torch.manual_seed(1337)\n",
    "W = torch.randn(5, 5, requires_grad=True)\n",
    "\n",
    "epochs = 10000\n",
    "learning_rate = 5\n",
    "for _ in range(epochs):\n",
    "    logits = xs @ W\n",
    "    loss = F.cross_entropy(logits, ys)\n",
    "\n",
    "    W.grad = None\n",
    "    loss.backward()\n",
    "\n",
    "    W.data -= learning_rate * W.grad\n",
    "print(loss.item())\n",
    "# target: 1.1705"
   ]
  },
  {
   "cell_type": "code",
   "execution_count": 64,
   "metadata": {},
   "outputs": [
    {
     "data": {
      "text/plain": [
       "<matplotlib.image.AxesImage at 0x24fa8585940>"
      ]
     },
     "execution_count": 64,
     "metadata": {},
     "output_type": "execute_result"
    },
    {
     "data": {
      "image/png": "[encoded data removed]",
      "text/plain": [
       "<Figure size 360x1296 with 1 Axes>"
      ]
     },
     "metadata": {
      "needs_background": "light"
     },
     "output_type": "display_data"
    }
   ],
   "source": [
    "N = W.exp()\n",
    "P = N / N.sum(axis=1, keepdim=True)\n",
    "\n",
    "g = torch.manual_seed(1337)\n",
    "\n",
    "track = 0\n",
    "chart = []\n",
    "for _ in range(100):\n",
    "    track = torch.multinomial(P[track], num_samples=1, replacement=True, generator=g).item()\n",
    "    chart.append(track)\n",
    "\n",
    "fig, ax = plt.subplots(figsize=(5, 18))\n",
    "ax.imshow(F.one_hot(torch.tensor(chart), num_classes=5))"
   ]
  },
  {
   "cell_type": "code",
   "execution_count": 66,
   "metadata": {},
   "outputs": [
    {
     "data": {
      "text/plain": [
       "tensor([[    0.0001,     0.2500,     0.2500,     0.2500,     0.2500],\n",
       "        [    0.0001,     0.0001,     0.3333,     0.3333,     0.3333],\n",
       "        [    0.0001,     0.3333,     0.0001,     0.3333,     0.3333],\n",
       "        [    0.0001,     0.3333,     0.3333,     0.0001,     0.3333],\n",
       "        [    0.0001,     0.3333,     0.3333,     0.3333,     0.0001]],\n",
       "       grad_fn=<DivBackward0>)"
      ]
     },
     "execution_count": 66,
     "metadata": {},
     "output_type": "execute_result"
    }
   ],
   "source": [
    "torch.set_printoptions(sci_mode=False)\n",
    "P"
   ]
  }
 ],
 "metadata": {
  "kernelspec": {
   "display_name": "Python 3",
   "language": "python",
   "name": "python3"
  },
  "language_info": {
   "codemirror_mode": {
    "name": "ipython",
    "version": 3
   },
   "file_extension": ".py",
   "mimetype": "text/x-python",
   "name": "python",
   "nbconvert_exporter": "python",
   "pygments_lexer": "ipython3",
   "version": "3.8.5"
  }
 },
 "nbformat": 4,
 "nbformat_minor": 2
}
