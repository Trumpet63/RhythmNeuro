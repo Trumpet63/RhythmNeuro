{
 "cells": [
  {
   "cell_type": "markdown",
   "metadata": {},
   "source": [
    "Problem Statement:\n",
    "* Say a player always hits stream 100ms early, but always hits jacks 100ms late. Predict this player's drift.\n",
    "\n",
    "Definitions:\n",
    "* Stream is a rhythm game pattern where no two consecutive chords contain the same tracks (aka lanes).\n",
    "* For this problem, assume jacks are any two consecutive chords that contain any of the same tracks.\n",
    "* Drift is the difference between the chord's time position and the time the player hit the chord. By convention, early is negative, late is positive."
   ]
  },
  {
   "cell_type": "code",
   "execution_count": 219,
   "metadata": {},
   "outputs": [],
   "source": [
    "import torch\n",
    "import matplotlib.pyplot as plt"
   ]
  },
  {
   "cell_type": "markdown",
   "metadata": {},
   "source": [
    "Predict using a statistical bigram model"
   ]
  },
  {
   "cell_type": "code",
   "execution_count": 9,
   "metadata": {},
   "outputs": [],
   "source": [
    "def has_overlap(c1, c2):\n",
    "    for i in range(4):\n",
    "        if c1[i] == \"1\" and c2[i] == c1[i]:\n",
    "            return True\n",
    "    return False"
   ]
  },
  {
   "cell_type": "code",
   "execution_count": 11,
   "metadata": {},
   "outputs": [],
   "source": [
    "chords = [f\"{i:04b}\" for i in range(16)]\n",
    "\n",
    "itoc = {i:c for i,c in enumerate(chords)}\n",
    "ctoi = {c:i for i,c in itoc.items()}\n",
    "\n",
    "D = torch.zeros(16, 16).int().tolist()\n",
    "for c1 in chords:\n",
    "    for c2 in chords:\n",
    "        drift = 100 if has_overlap(c1, c2) else -100\n",
    "        idx1 = ctoi[c1]\n",
    "        idx2 = ctoi[c2]\n",
    "        D[idx1][idx2] = drift"
   ]
  },
  {
   "cell_type": "code",
   "execution_count": 12,
   "metadata": {},
   "outputs": [
    {
     "data": {
      "text/plain": [
       "<matplotlib.image.AxesImage at 0x20f8ae7a820>"
      ]
     },
     "execution_count": 12,
     "metadata": {},
     "output_type": "execute_result"
    },
    {
     "data": {
      "image/png": "[encoded data removed]",
      "text/plain": [
       "<Figure size 432x288 with 1 Axes>"
      ]
     },
     "metadata": {
      "needs_background": "light"
     },
     "output_type": "display_data"
    }
   ],
   "source": [
    "plt.imshow(D)"
   ]
  },
  {
   "cell_type": "markdown",
   "metadata": {},
   "source": [
    "Predict using a neural net bigram model"
   ]
  },
  {
   "cell_type": "code",
   "execution_count": 16,
   "metadata": {},
   "outputs": [],
   "source": [
    "xs, ys = [], []\n",
    "\n",
    "for c1 in chords:\n",
    "    for c2 in chords:\n",
    "        idx1 = ctoi[c1]\n",
    "        idx2 = ctoi[c2]\n",
    "        xs.append((idx1, idx2))\n",
    "\n",
    "        drift = 100 if has_overlap(c1, c2) else -100\n",
    "        ys.append(drift)\n",
    "\n",
    "xs = torch.tensor(xs)\n",
    "ys = torch.tensor(ys)"
   ]
  },
  {
   "cell_type": "code",
   "execution_count": 54,
   "metadata": {},
   "outputs": [],
   "source": [
    "g = torch.manual_seed(1337)\n",
    "D = torch.randn(16, 16, generator=g, requires_grad=True)"
   ]
  },
  {
   "cell_type": "code",
   "execution_count": 216,
   "metadata": {},
   "outputs": [
    {
     "data": {
      "text/plain": [
       "3.554870772859431e-06"
      ]
     },
     "execution_count": 216,
     "metadata": {},
     "output_type": "execute_result"
    }
   ],
   "source": [
    "num_epochs = 1\n",
    "learning_rate = 10\n",
    "\n",
    "for _ in range(num_epochs):\n",
    "    y_pred = D[xs[:,0], xs[:,1]]\n",
    "    loss = ((y_pred - ys) ** 2).mean()\n",
    "\n",
    "    D.grad = None\n",
    "    loss.backward()\n",
    "\n",
    "    D.data -= learning_rate * D.grad\n",
    "\n",
    "loss.item()"
   ]
  },
  {
   "cell_type": "code",
   "execution_count": 217,
   "metadata": {},
   "outputs": [
    {
     "data": {
      "text/plain": [
       "<matplotlib.image.AxesImage at 0x20f928f0970>"
      ]
     },
     "execution_count": 217,
     "metadata": {},
     "output_type": "execute_result"
    },
    {
     "data": {
      "image/png": "[encoded data removed]",
      "text/plain": [
       "<Figure size 432x288 with 1 Axes>"
      ]
     },
     "metadata": {
      "needs_background": "light"
     },
     "output_type": "display_data"
    }
   ],
   "source": [
    "plt.imshow(D.tolist())"
   ]
  },
  {
   "cell_type": "code",
   "execution_count": 218,
   "metadata": {},
   "outputs": [
    {
     "data": {
      "text/plain": [
       "tensor([[-99.9983, -99.9983, -99.9983, -99.9983, -99.9983, -99.9983, -99.9982,\n",
       "         -99.9983, -99.9983, -99.9982, -99.9983, -99.9983, -99.9983, -99.9983,\n",
       "         -99.9983, -99.9982],\n",
       "        [-99.9982,  99.9983, -99.9983,  99.9983, -99.9983,  99.9983, -99.9982,\n",
       "          99.9983, -99.9983,  99.9982, -99.9983,  99.9983, -99.9983,  99.9982,\n",
       "         -99.9982,  99.9983],\n",
       "        [-99.9983, -99.9983,  99.9983,  99.9983, -99.9983, -99.9982,  99.9982,\n",
       "          99.9983, -99.9983, -99.9983,  99.9983,  99.9982, -99.9983, -99.9983,\n",
       "          99.9983,  99.9983],\n",
       "        [-99.9982,  99.9982,  99.9983,  99.9983, -99.9983,  99.9983,  99.9983,\n",
       "          99.9982, -99.9982,  99.9982,  99.9983,  99.9983, -99.9982,  99.9983,\n",
       "          99.9983,  99.9983],\n",
       "        [-99.9983, -99.9983, -99.9983, -99.9983,  99.9983,  99.9983,  99.9983,\n",
       "          99.9982, -99.9982, -99.9983, -99.9983, -99.9983,  99.9982,  99.9983,\n",
       "          99.9983,  99.9983],\n",
       "        [-99.9982,  99.9982, -99.9982,  99.9983,  99.9982,  99.9982,  99.9983,\n",
       "          99.9983, -99.9983,  99.9983, -99.9983,  99.9982,  99.9983,  99.9983,\n",
       "          99.9982,  99.9983],\n",
       "        [-99.9983, -99.9983,  99.9983,  99.9983,  99.9983,  99.9982,  99.9983,\n",
       "          99.9983, -99.9983, -99.9983,  99.9983,  99.9983,  99.9983,  99.9983,\n",
       "          99.9983,  99.9982],\n",
       "        [-99.9983,  99.9983,  99.9983,  99.9982,  99.9983,  99.9983,  99.9982,\n",
       "          99.9983, -99.9982,  99.9983,  99.9983,  99.9983,  99.9983,  99.9983,\n",
       "          99.9983,  99.9982],\n",
       "        [-99.9983, -99.9982, -99.9982, -99.9983, -99.9982, -99.9982, -99.9983,\n",
       "         -99.9983,  99.9983,  99.9983,  99.9983,  99.9983,  99.9983,  99.9982,\n",
       "          99.9983,  99.9983],\n",
       "        [-99.9982,  99.9983, -99.9983,  99.9983, -99.9983,  99.9983, -99.9983,\n",
       "          99.9983,  99.9982,  99.9983,  99.9983,  99.9983,  99.9982,  99.9983,\n",
       "          99.9983,  99.9983],\n",
       "        [-99.9983, -99.9983,  99.9983,  99.9983, -99.9983, -99.9983,  99.9982,\n",
       "          99.9983,  99.9983,  99.9983,  99.9983,  99.9983,  99.9982,  99.9983,\n",
       "          99.9982,  99.9982],\n",
       "        [-99.9983,  99.9982,  99.9983,  99.9983, -99.9982,  99.9983,  99.9982,\n",
       "          99.9983,  99.9983,  99.9983,  99.9983,  99.9982,  99.9983,  99.9983,\n",
       "          99.9983,  99.9983],\n",
       "        [-99.9983, -99.9983, -99.9982, -99.9982,  99.9983,  99.9983,  99.9983,\n",
       "          99.9983,  99.9983,  99.9982,  99.9983,  99.9983,  99.9982,  99.9982,\n",
       "          99.9983,  99.9983],\n",
       "        [-99.9983,  99.9982, -99.9983,  99.9983,  99.9983,  99.9983,  99.9983,\n",
       "          99.9983,  99.9983,  99.9983,  99.9983,  99.9982,  99.9983,  99.9983,\n",
       "          99.9983,  99.9983],\n",
       "        [-99.9983, -99.9983,  99.9983,  99.9983,  99.9983,  99.9983,  99.9983,\n",
       "          99.9983,  99.9983,  99.9982,  99.9983,  99.9982,  99.9982,  99.9983,\n",
       "          99.9983,  99.9983],\n",
       "        [-99.9982,  99.9983,  99.9982,  99.9982,  99.9983,  99.9983,  99.9983,\n",
       "          99.9982,  99.9983,  99.9983,  99.9982,  99.9982,  99.9983,  99.9982,\n",
       "          99.9983,  99.9983]], requires_grad=True)"
      ]
     },
     "execution_count": 218,
     "metadata": {},
     "output_type": "execute_result"
    }
   ],
   "source": [
    "D"
   ]
  }
 ],
 "metadata": {
  "kernelspec": {
   "display_name": "Python 3",
   "language": "python",
   "name": "python3"
  },
  "language_info": {
   "codemirror_mode": {
    "name": "ipython",
    "version": 3
   },
   "file_extension": ".py",
   "mimetype": "text/x-python",
   "name": "python",
   "nbconvert_exporter": "python",
   "pygments_lexer": "ipython3",
   "version": "3.8.5"
  }
 },
 "nbformat": 4,
 "nbformat_minor": 2
}
